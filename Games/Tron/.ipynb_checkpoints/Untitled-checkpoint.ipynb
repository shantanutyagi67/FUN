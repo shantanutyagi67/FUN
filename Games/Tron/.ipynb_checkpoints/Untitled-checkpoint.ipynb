{
 "cells": [
  {
   "cell_type": "code",
   "execution_count": 9,
   "metadata": {},
   "outputs": [
    {
     "name": "stdout",
     "output_type": "stream",
     "text": [
      "Player red wins!\n"
     ]
    }
   ],
   "source": [
    "\"\"\"Tron, classic arcade game.\n",
    "\n",
    "Exercises\n",
    "\n",
    "1. Make the tron players faster/slower.\n",
    "2. Stop a tron player from running into itself.\n",
    "3. Allow the tron player to go around the edge of the screen.\n",
    "4. How would you create a computer player?\n",
    "\n",
    "\"\"\"\n",
    "\n",
    "from turtle import *\n",
    "from freegames import square, vector\n",
    "\n",
    "p1xy = vector(-150, 0)\n",
    "p1aim = vector(4, 0)\n",
    "p1body = set()\n",
    "\n",
    "p2xy = vector(150, 0)\n",
    "p2aim = vector(-4, 0)\n",
    "p2body = set()\n",
    "\n",
    "def inside(head):\n",
    "    \"Return True if head inside screen.\"\n",
    "    return -200 < head.x < 200 and -200 < head.y < 200\n",
    "\n",
    "def draw():\n",
    "    \"Advance players and draw game.\"\n",
    "    p1xy.move(p1aim)\n",
    "    p1head = p1xy.copy()\n",
    "\n",
    "    p2xy.move(p2aim)\n",
    "    p2head = p2xy.copy()\n",
    "\n",
    "    if not inside(p1head) or p1head in p2body:\n",
    "        print('Player blue wins!')\n",
    "        return\n",
    "\n",
    "    if not inside(p2head) or p2head in p1body:\n",
    "        print('Player red wins!')\n",
    "        return\n",
    "\n",
    "    p1body.add(p1head)\n",
    "    p2body.add(p2head)\n",
    "\n",
    "    square(p1xy.x, p1xy.y, 3, 'red')\n",
    "    square(p2xy.x, p2xy.y, 3, 'blue')\n",
    "    update()\n",
    "    ontimer(draw, 50)\n",
    "\n",
    "setup(420, 420, 370, 0)\n",
    "hideturtle()\n",
    "tracer(False)\n",
    "listen()\n",
    "onkey(lambda: p1aim.rotate(90), 'a')\n",
    "onkey(lambda: p1aim.rotate(-90), 'd')\n",
    "onkey(lambda: p2aim.rotate(90), 'j')\n",
    "onkey(lambda: p2aim.rotate(-90), 'l')\n",
    "draw()\n",
    "done()"
   ]
  },
  {
   "cell_type": "code",
   "execution_count": null,
   "metadata": {},
   "outputs": [],
   "source": []
  },
  {
   "cell_type": "code",
   "execution_count": null,
   "metadata": {},
   "outputs": [],
   "source": []
  }
 ],
 "metadata": {
  "kernelspec": {
   "display_name": "Python 3",
   "language": "python",
   "name": "python3"
  },
  "language_info": {
   "codemirror_mode": {
    "name": "ipython",
    "version": 3
   },
   "file_extension": ".py",
   "mimetype": "text/x-python",
   "name": "python",
   "nbconvert_exporter": "python",
   "pygments_lexer": "ipython3",
   "version": "3.8.5"
  }
 },
 "nbformat": 4,
 "nbformat_minor": 4
}
